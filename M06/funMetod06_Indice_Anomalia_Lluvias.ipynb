{
 "cells": [
  {
   "cell_type": "code",
   "execution_count": 1,
   "metadata": {},
   "outputs": [
    {
     "ename": "IndentationError",
     "evalue": "unexpected indent (<ipython-input-1-654d14030fcf>, line 6)",
     "output_type": "error",
     "traceback": [
      "\u001b[1;36m  File \u001b[1;32m\"<ipython-input-1-654d14030fcf>\"\u001b[1;36m, line \u001b[1;32m6\u001b[0m\n\u001b[1;33m    load_dotenv()\u001b[0m\n\u001b[1;37m    ^\u001b[0m\n\u001b[1;31mIndentationError\u001b[0m\u001b[1;31m:\u001b[0m unexpected indent\n"
     ]
    }
   ],
   "source": [
    "import os #para acceder a variables del environment\n",
    "import pandas as pd \n",
    "import numpy as np\n",
    "import datetime as dt\n",
    "from dotenv import load_dotenv\n",
    "load_dotenv()\n",
    "from sqlalchemy import create_engine\n",
    "\n",
    "def funIndice_Anomalia_Lluvias():\n",
    "    #cargar credenciales para conectarse a la base de datos\n",
    "    db_string = os.environ['DATABASE_URL']\n",
    "    db = create_engine(db_string)\n",
    "\n",
    "    #cargar tablas monitoreo metodologia 6 y metadatos del punto\n",
    "    registro_diario_lluvia = pd.read_sql_query('SELECT * FROM indicadores.registro_diario_lluvia',con=db)\n",
    "    print(registro_diario_lluvia)\n",
    "\n",
    "    #reagrupar por mes para calcular indicador\n",
    "    df_registro_mes_lluvia = registro_diario_lluvia.groupby(['codigo','nombre_vereda','asociacion','anio','mes'],dropna=False)['precipitacion'].sum().reset_index()\n",
    "\n",
    "    #Cargar tabla de parámetros para cáculo de indicador\n",
    "    iap_parametros = pd.read_sql_query('SELECT * FROM kobo_data.historico_precipitacion',con=db)\n",
    "    #print(iap_parametros)\n",
    "\n",
    "    #agregar valores historicos\n",
    "    df_mes_parametros = pd.merge(df_registro_mes_lluvia,iap_parametros,left_on=\"mes\",right_on='dt_mes', how='left')\n",
    "\n",
    "    #Calcular indicador de anomalia para valores mayores y menores al historico de precipitacion\n",
    "    df_mes_parametros['iap_p'] = df_mes_parametros['nm_fe_p']*(df_mes_parametros['precipitacion']-df_mes_parametros['nm_mediana_precipitacion_historico'])/(df_mes_parametros['nm_promedio_p90_historico']-df_mes_parametros['nm_mediana_precipitacion_historico'])\n",
    "    df_mes_parametros['iap_n'] = df_mes_parametros['nm_fe_n']*(df_mes_parametros['precipitacion']-df_mes_parametros['nm_mediana_precipitacion_historico'])/(df_mes_parametros['nm_promedio_p10_historico']-df_mes_parametros['nm_mediana_precipitacion_historico'])\n",
    "\n",
    "    print(df_mes_parametros)\n",
    "\n",
    "    #Seleccionar el calculo correspondiente segun la logica de relacion con precipitacion historica\n",
    "    df_mes_parametros['iap'] = df_mes_parametros.iap_p\n",
    "    mask = df_mes_parametros.precipitacion < df_mes_parametros.nm_mediana_precipitacion_historico\n",
    "\n",
    "    df_mes_parametros.loc[mask,'iap'] = df_mes_parametros.loc[mask,'iap_n']\n",
    "\n",
    "    #definir puntos de corte segun van Rooy (1965)\n",
    "    puntos_corte=[-np.inf,-3,-2,-1,-0.5,0.49999999,0.99999999,1.99999999,2.99999999,np.inf] #verificar si dan los limites cerrados y abiertos\n",
    "    rangos=[\"Extremadamente seco\",\"Muy seco\",\"Moderadamente seco\",\"Un poco seco\",\"Aproximadamente normal\",\"Un poco húmedo\",\"Moderadamente húmedo\",\"Muy húmedo\",\"Extremadamente húmedo\"]\n",
    "    df_mes_parametros['iap_label'] = pd.cut(df_mes_parametros['iap'], puntos_corte , labels=rangos)\n",
    "\n",
    "    #print(df_mes_parametros)\n",
    "\n",
    "    #Seleccionar columnas para tabla a exportar\n",
    "    indice_anomalia_lluvias = df_mes_parametros[['asociacion','anio','mes','iap','iap_label']] #tabla a exportar\n",
    "\n",
    "    db.execute('TRUNCATE TABLE indicadores.indice_anomalia_lluvias CASCADE')\n",
    "    indice_anomalia_lluvias.to_sql('indice_anomalia_lluvias', con=db, schema=\"indicadores\", if_exists='append', index=False)\n"
   ]
  }
 ],
 "metadata": {
  "kernelspec": {
   "display_name": "Python 3.7.6 ('base')",
   "language": "python",
   "name": "python3"
  },
  "language_info": {
   "codemirror_mode": {
    "name": "ipython",
    "version": 3
   },
   "file_extension": ".py",
   "mimetype": "text/x-python",
   "name": "python",
   "nbconvert_exporter": "python",
   "pygments_lexer": "ipython3",
   "version": "3.7.6"
  },
  "orig_nbformat": 4,
  "vscode": {
   "interpreter": {
    "hash": "0e14b8098f6196d8118101009715d93d14008b23b93168ee0c81afdd6f893da8"
   }
  }
 },
 "nbformat": 4,
 "nbformat_minor": 2
}
