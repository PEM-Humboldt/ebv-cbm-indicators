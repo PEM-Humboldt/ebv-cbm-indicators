{
 "cells": [
  {
   "cell_type": "code",
   "execution_count": 2,
   "metadata": {},
   "outputs": [
    {
     "ename": "ModuleNotFoundError",
     "evalue": "No module named 'dotenv'",
     "output_type": "error",
     "traceback": [
      "\u001b[1;31m---------------------------------------------------------------------------\u001b[0m",
      "\u001b[1;31mModuleNotFoundError\u001b[0m                       Traceback (most recent call last)",
      "\u001b[1;32m<ipython-input-2-59612b2267ca>\u001b[0m in \u001b[0;36m<module>\u001b[1;34m\u001b[0m\n\u001b[0;32m      3\u001b[0m \u001b[1;32mimport\u001b[0m \u001b[0mnumpy\u001b[0m \u001b[1;32mas\u001b[0m \u001b[0mnp\u001b[0m\u001b[1;33m\u001b[0m\u001b[1;33m\u001b[0m\u001b[0m\n\u001b[0;32m      4\u001b[0m \u001b[1;32mimport\u001b[0m \u001b[0mdatetime\u001b[0m \u001b[1;32mas\u001b[0m \u001b[0mdt\u001b[0m\u001b[1;33m\u001b[0m\u001b[1;33m\u001b[0m\u001b[0m\n\u001b[1;32m----> 5\u001b[1;33m \u001b[1;32mfrom\u001b[0m \u001b[0mdotenv\u001b[0m \u001b[1;32mimport\u001b[0m \u001b[0mload_dotenv\u001b[0m\u001b[1;33m\u001b[0m\u001b[1;33m\u001b[0m\u001b[0m\n\u001b[0m\u001b[0;32m      6\u001b[0m \u001b[0mload_dotenv\u001b[0m\u001b[1;33m(\u001b[0m\u001b[1;33m)\u001b[0m\u001b[1;33m\u001b[0m\u001b[1;33m\u001b[0m\u001b[0m\n\u001b[0;32m      7\u001b[0m \u001b[1;32mfrom\u001b[0m \u001b[0msqlalchemy\u001b[0m \u001b[1;32mimport\u001b[0m \u001b[0mcreate_engine\u001b[0m\u001b[1;33m\u001b[0m\u001b[1;33m\u001b[0m\u001b[0m\n",
      "\u001b[1;31mModuleNotFoundError\u001b[0m: No module named 'dotenv'"
     ]
    }
   ],
   "source": [
    "import os #para acceder a variables del environment\n",
    "import pandas as pd \n",
    "import numpy as np\n",
    "import datetime as dt\n",
    "from dotenv import load_dotenv\n",
    "load_dotenv()\n",
    "from sqlalchemy import create_engine\n",
    "\n",
    "def funRegistro_Diario_Lluvias():\n",
    "    #cargar credenciales para conectarse a la base de datos\n",
    "    db_string = os.environ['DATABASE_URL']\n",
    "    db = create_engine(db_string)\n",
    "\n",
    "    #cargar tablas monitoreo metodologia 6 y metadatos del punto\n",
    "    df_registros = pd.read_sql_query('SELECT * FROM kobo_data.medicion_lluvia_registros',con=db)\n",
    "    df_metadata = pd.read_sql_query('SELECT * FROM kobo_data.medicion_lluvia',con=db)\n",
    "    df_codigo  = pd.read_sql_query('SELECT * FROM kobo_data.codigo_punto',con=db)\n",
    "\n",
    "    df= pd.merge(df_registros,df_metadata,left_on=\"id_formulario\",right_on=\"id\",how=\"left\")\n",
    "    df= pd.merge(df,df_codigo,on=\"tx_codigo\",how=\"left\")\n",
    "\n",
    "    #Crear variables de interes a partir de fecha\n",
    "    df['fecha']=pd.to_datetime(df['dt_fecha_hora'])\n",
    "    df['anio']= df['fecha'].dt.year\n",
    "    df['dt_mes']= df['fecha'].dt.month\n",
    "    df['juliano']=df['fecha'].dt.strftime(\"%j\")\n",
    "\n",
    "    #Crear tabla con registros diarios agrupados\n",
    "    df_registro_diario_lluvia = df.groupby(['tx_codigo','tx_vereda','ct_asociacion','anio','dt_mes','fecha'],dropna=False)['nm_precipitacion'].sum().reset_index()\n",
    "\n",
    "    #Cargar tabla de parámetros para cáculo de indicador\n",
    "    iap_parametros = pd.read_sql_query('SELECT * FROM kobo_data.historico_precipitacion',con=db)\n",
    "    \n",
    "    #unir tabla registros diarios agrupados con parametros historicos\n",
    "    registro_diario_lluvia = pd.merge(df_registro_diario_lluvia , iap_parametros[['dt_mes',\"nm_p10_historico\",'nm_p90_historico']], on=\"dt_mes\", how='left')\n",
    "\n",
    "    #renombrar para exportar\n",
    "    registro_diario_lluvia = registro_diario_lluvia.rename(columns={'tx_codigo':'codigo','tx_vereda':'nombre_vereda','ct_asociacion':'asociacion','nm_precipitacion':'precipitacion','dt_mes':'mes','nm_p10_historico':'p10','nm_p90_historico':'p90'})\n",
    "    print(registro_diario_lluvia)\n",
    "\n",
    "    #reagrupar por mes para calcular indicador\n",
    "    df_registro_mes_lluvia = registro_diario_lluvia.groupby(['codigo','nombre_vereda','asociacion','anio','mes'],dropna=False)['precipitacion'].sum().reset_index()\n",
    "\n",
    "    #agregar valores historicos\n",
    "    df_mes_parametros = pd.merge(df_registro_mes_lluvia,iap_parametros,left_on=\"mes\",right_on='dt_mes', how='left')\n",
    "\n",
    "    db.execute('TRUNCATE TABLE indicadores.registro_diario_lluvia CASCADE')\n",
    "    registro_diario_lluvia.to_sql('registro_diario_lluvia', con=db, schema=\"indicadores\", if_exists='append', index=False)\n",
    "\n"
   ]
  }
 ],
 "metadata": {
  "kernelspec": {
   "display_name": "Python 3.7.6 ('base')",
   "language": "python",
   "name": "python3"
  },
  "language_info": {
   "codemirror_mode": {
    "name": "ipython",
    "version": 3
   },
   "file_extension": ".py",
   "mimetype": "text/x-python",
   "name": "python",
   "nbconvert_exporter": "python",
   "pygments_lexer": "ipython3",
   "version": "3.7.6"
  },
  "orig_nbformat": 4,
  "vscode": {
   "interpreter": {
    "hash": "0e14b8098f6196d8118101009715d93d14008b23b93168ee0c81afdd6f893da8"
   }
  }
 },
 "nbformat": 4,
 "nbformat_minor": 2
}
