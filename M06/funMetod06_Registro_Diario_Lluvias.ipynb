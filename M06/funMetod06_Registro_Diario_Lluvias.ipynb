{
 "cells": [
  {
   "cell_type": "code",
   "execution_count": 1,
   "metadata": {},
   "outputs": [
    {
     "name": "stdout",
     "output_type": "stream",
     "text": [
      "           codigo nombre_vereda asociacion  anio  mes  \\\n",
      "0  06M004V001P001           NaN        NaN  2021    8   \n",
      "1  06M004V001P001           NaN        NaN  2021    8   \n",
      "2   06M01V001P001    San isidro      amusi  2021   10   \n",
      "3   06M01V001P001    San isidro      amusi  2021   11   \n",
      "4   06M01V001P001    San isidro      amusi  2021   11   \n",
      "5              E1           NaN        NaN  2021    9   \n",
      "6         Prueba2           NaN        NaN  2021    8   \n",
      "7         Prueba2           NaN        NaN  2021    8   \n",
      "\n",
      "                      fecha  precipitacion     p10     p90  \n",
      "0 2021-08-10 21:47:00+00:00              3   9.868  31.720  \n",
      "1 2021-08-11 21:46:00+00:00              2   9.868  31.720  \n",
      "2 2021-10-07 16:30:00+00:00              2  16.545  36.086  \n",
      "3 2021-11-04 16:30:00+00:00              0  13.360  32.960  \n",
      "4 2021-11-04 16:45:00+00:00              2  13.360  32.960  \n",
      "5 2021-09-27 02:06:00+00:00             50  10.276  36.387  \n",
      "6 2021-08-11 15:09:00+00:00              5   9.868  31.720  \n",
      "7 2021-08-12 14:09:00+00:00             10   9.868  31.720  \n"
     ]
    }
   ],
   "source": [
    "import os #para acceder a variables del environment\n",
    "import pandas as pd \n",
    "import numpy as np\n",
    "import datetime as dt\n",
    "from dotenv import load_dotenv\n",
    "    load_dotenv()\n",
    "from sqlalchemy import create_engine\n",
    "\n",
    "def funRegistro_Diario_Lluvias():\n",
    "    #cargar credenciales para conectarse a la base de datos\n",
    "    db_string = os.environ['DATABASE_URL']\n",
    "    db = create_engine(db_string)\n",
    "\n",
    "    #cargar tablas monitoreo metodologia 6 y metadatos del punto\n",
    "    df_registros = pd.read_sql_query('SELECT * FROM kobo_data.medicion_lluvia_registros',con=db)\n",
    "    df_metadata = pd.read_sql_query('SELECT * FROM kobo_data.medicion_lluvia',con=db)\n",
    "    df_codigo  = pd.read_sql_query('SELECT * FROM kobo_data.codigo_punto',con=db)\n",
    "\n",
    "    df= pd.merge(df_registros,df_metadata,left_on=\"id_formulario\",right_on=\"id\",how=\"left\")\n",
    "    df= pd.merge(df,df_codigo,on=\"tx_codigo\",how=\"left\")\n",
    "\n",
    "    #Crear variables de interes a partir de fecha\n",
    "    df['fecha']=pd.to_datetime(df['dt_fecha_hora'])\n",
    "    df['anio']= df['fecha'].dt.year\n",
    "    df['dt_mes']= df['fecha'].dt.month\n",
    "    df['juliano']=df['fecha'].dt.strftime(\"%j\")\n",
    "\n",
    "    #Crear tabla con registros diarios agrupados\n",
    "    df_registro_diario_lluvia = df.groupby(['tx_codigo','tx_vereda','ct_asociacion','anio','dt_mes','fecha'],dropna=False)['nm_precipitacion'].sum().reset_index()\n",
    "\n",
    "    #Cargar tabla de parámetros para cáculo de indicador\n",
    "    iap_parametros = pd.read_sql_query('SELECT * FROM kobo_data.historico_precipitacion',con=db)\n",
    "    \n",
    "    #unir tabla registros diarios agrupados con parametros historicos\n",
    "    registro_diario_lluvia = pd.merge(df_registro_diario_lluvia , iap_parametros[['dt_mes',\"nm_p10_historico\",'nm_p90_historico']], on=\"dt_mes\", how='left')\n",
    "\n",
    "    #renombrar para exportar\n",
    "    registro_diario_lluvia = registro_diario_lluvia.rename(columns={'tx_codigo':'codigo','tx_vereda':'nombre_vereda','ct_asociacion':'asociacion','nm_precipitacion':'precipitacion','dt_mes':'mes','nm_p10_historico':'p10','nm_p90_historico':'p90'})\n",
    "    print(registro_diario_lluvia)\n",
    "\n",
    "    #reagrupar por mes para calcular indicador\n",
    "    df_registro_mes_lluvia = registro_diario_lluvia.groupby(['codigo','nombre_vereda','asociacion','anio','mes'],dropna=False)['precipitacion'].sum().reset_index()\n",
    "\n",
    "    #agregar valores historicos\n",
    "    df_mes_parametros = pd.merge(df_registro_mes_lluvia,iap_parametros,left_on=\"mes\",right_on='dt_mes', how='left')\n",
    "\n",
    "    db.execute('TRUNCATE TABLE indicadores.registro_diario_lluvia CASCADE')\n",
    "    registro_diario_lluvia.to_sql('registro_diario_lluvia', con=db, schema=\"indicadores\", if_exists='append', index=False)\n",
    "\n"
   ]
  }
 ],
 "metadata": {
  "kernelspec": {
   "display_name": "Python 3.8.10 ('vEnv': venv)",
   "language": "python",
   "name": "python3"
  },
  "language_info": {
   "codemirror_mode": {
    "name": "ipython",
    "version": 3
   },
   "file_extension": ".py",
   "mimetype": "text/x-python",
   "name": "python",
   "nbconvert_exporter": "python",
   "pygments_lexer": "ipython3",
   "version": "3.8.10"
  },
  "orig_nbformat": 4,
  "vscode": {
   "interpreter": {
    "hash": "0c8bc029d2b34f65e3d72837f1b1144b99b4e22b0c8b797a443332e0b67550eb"
   }
  }
 },
 "nbformat": 4,
 "nbformat_minor": 2
}
