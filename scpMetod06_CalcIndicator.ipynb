{
 "cells": [
  {
   "cell_type": "code",
   "execution_count": 36,
   "id": "fba828be",
   "metadata": {},
   "outputs": [],
   "source": [
    "#pip install SQLAlchemy\n",
    "#pip install psycopg2-binary"
   ]
  },
  {
   "cell_type": "code",
   "execution_count": 1,
   "metadata": {},
   "outputs": [],
   "source": [
    "import sqlalchemy as db # para trabajar con la base de datos con sql\n",
    "import os #para acceder a variables del environment\n",
    "import pandas as pd \n",
    "import numpy as np\n",
    "import datetime as dt\n",
    "\n",
    "from dotenv import load_dotenv\n",
    "load_dotenv()\n",
    "from sqlalchemy import create_engine"
   ]
  },
  {
   "cell_type": "code",
   "execution_count": 2,
   "id": "48d411d6",
   "metadata": {},
   "outputs": [],
   "source": [
    "#cargar credenciales para conectarse a la base de datos\n",
    "db_string = os.environ['DATABASE_URL']\n",
    "db = create_engine(db_string)"
   ]
  },
  {
   "cell_type": "code",
   "execution_count": 3,
   "id": "7f9a02f6",
   "metadata": {},
   "outputs": [],
   "source": [
    "#cargar tablas monitoreo 6 y metadatos del punto\n",
    "df_registros = pd.read_sql_query('SELECT * FROM kobo_data.medicion_lluvia_registros',con=db)\n",
    "df_metadata = pd.read_sql_query('SELECT * FROM kobo_data.medicion_lluvia',con=db)\n",
    "df_codigo  = pd.read_sql_query('SELECT * FROM kobo_data.codigo_punto',con=db)\n",
    "#print(df_registros)\n",
    "#print(df_metadata)"
   ]
  },
  {
   "cell_type": "code",
   "execution_count": 73,
   "id": "d2901ac8",
   "metadata": {},
   "outputs": [
    {
     "name": "stdout",
     "output_type": "stream",
     "text": [
      "          id tx_nombre_monitor  nm_formato_no       tx_codigo  \\\n",
      "0  109073089             Erika              1  06M004V001P001   \n",
      "1  109087879      María Isabel              1         Prueba2   \n",
      "2  116261871      Maria Molina              6              E1   \n",
      "3  126805689           Maria I              1   06M01V001P001   \n",
      "\n",
      "                             tx_contenedor tx_observaciones fl_soporte_fisico  \\\n",
      "0                                  coquita                               None   \n",
      "1                                  Botella           Prueba              None   \n",
      "2  Contenedor de plastico de 50cm de ancho                               None   \n",
      "3                                    tarro                               None   \n",
      "\n",
      "                            inicio                              fin  \\\n",
      "0 2021-08-11 21:45:37.748000+00:00 2021-10-06 22:53:54.156000+00:00   \n",
      "1 2021-08-12 03:08:55.430000+00:00 2021-08-12 03:10:49.937000+00:00   \n",
      "2 2021-09-27 02:05:42.006000+00:00 2021-09-27 02:07:16.511000+00:00   \n",
      "3 2021-11-26 16:21:36.584000+00:00 2021-11-26 16:26:27.490000+00:00   \n",
      "\n",
      "      submission_time                                 respuesta_original  \n",
      "0 2021-08-11 21:48:04  {'_id': 109073089, 'formhub/uuid': '1ea9be0456...  \n",
      "1 2021-08-12 03:11:01  {'_id': 109087879, 'formhub/uuid': '1ea9be0456...  \n",
      "2 2021-09-27 14:50:23  {'_id': 116261871, 'formhub/uuid': '1ea9be0456...  \n",
      "3 2021-11-26 16:27:15  {'_id': 126805689, 'formhub/uuid': '1ea9be0456...  \n"
     ]
    }
   ],
   "source": [
    "#print(df_registros)\n",
    "#print(df_metadata)"
   ]
  },
  {
   "cell_type": "code",
   "execution_count": 4,
   "metadata": {},
   "outputs": [
    {
     "name": "stdout",
     "output_type": "stream",
     "text": [
      "(8, 32)\n",
      "0     2\n",
      "1     3\n",
      "2     5\n",
      "3    10\n",
      "4    50\n",
      "5     0\n",
      "6     2\n",
      "7     2\n",
      "Name: nm_precipitacion, dtype: int64\n"
     ]
    }
   ],
   "source": [
    "df= pd.merge(df_registros,df_metadata,left_on=\"id_formulario\",right_on=\"id\",how=\"left\")\n",
    "df= pd.merge(df,df_codigo,on=\"tx_codigo\",how=\"left\")\n",
    "print(df.shape)\n",
    "#print(df)\n",
    "#print(df['nm_precipitacion'])"
   ]
  },
  {
   "cell_type": "code",
   "execution_count": 6,
   "metadata": {},
   "outputs": [],
   "source": [
    "#Crear variables de interes a partir de fecha\n",
    "df['fecha']=pd.to_datetime(df['dt_fecha_hora'])\n",
    "df['anio']= df['fecha'].dt.year\n",
    "df['dt_mes']= df['fecha'].dt.month\n",
    "df['juliano']=df['fecha'].dt.strftime(\"%j\")\n",
    "\n",
    "#Crear tabla con registros diarios agrupados\n",
    "df_registro_diario_lluvia = df.groupby(['tx_codigo','tx_vereda','ct_asociacion','anio','dt_mes','fecha'],dropna=False)['nm_precipitacion'].sum().reset_index()\n",
    "#print(df_registro_diario_lluvia)"
   ]
  },
  {
   "cell_type": "code",
   "execution_count": 7,
   "id": "527967cc",
   "metadata": {},
   "outputs": [],
   "source": [
    "#Cargar tabla de parámetros para cáculo de indicador\n",
    "iap_parametros = pd.read_sql_query('SELECT * FROM kobo_data.historico_precipitacion',con=db)\n",
    "#print(iap_parametros)\n"
   ]
  },
  {
   "cell_type": "code",
   "execution_count": 8,
   "id": "fff665ce",
   "metadata": {},
   "outputs": [
    {
     "name": "stdout",
     "output_type": "stream",
     "text": [
      "           codigo nombre_vereda asociacion  anio  mes      fecha  \\\n",
      "0  06M004V001P001           NaN        NaN  2021    8 2021-08-10   \n",
      "1  06M004V001P001           NaN        NaN  2021    8 2021-08-11   \n",
      "2   06M01V001P001    San isidro      amusi  2021   10 2021-10-07   \n",
      "3   06M01V001P001    San isidro      amusi  2021   11 2021-11-04   \n",
      "4              E1           NaN        NaN  2021    9 2021-09-26   \n",
      "5         Prueba2           NaN        NaN  2021    8 2021-08-11   \n",
      "6         Prueba2           NaN        NaN  2021    8 2021-08-12   \n",
      "\n",
      "   precipitacion     p10     p90  \n",
      "0              3   9.868  31.720  \n",
      "1              2   9.868  31.720  \n",
      "2              2  16.545  36.086  \n",
      "3              2  13.360  32.960  \n",
      "4             50  10.276  36.387  \n",
      "5              5   9.868  31.720  \n",
      "6             10   9.868  31.720  \n"
     ]
    }
   ],
   "source": [
    "#unir tabla registros diarios agrupados con parametros historicos\n",
    "registro_diario_lluvia = pd.merge(df_registro_diario_lluvia , iap_parametros[['dt_mes',\"nm_p10_historico\",'nm_p90_historico']], on=\"dt_mes\", how='left')\n",
    "\n",
    "#renombrar para exportar\n",
    "registro_diario_lluvia = registro_diario_lluvia.rename(columns={'tx_codigo':'codigo','tx_vereda':'nombre_vereda','ct_asociacion':'asociacion','nm_precipitacion':'precipitacion','dt_mes':'mes','nm_p10_historico':'p10','nm_p90_historico':'p90'})\n",
    "print(registro_diario_lluvia)\n"
   ]
  },
  {
   "cell_type": "code",
   "execution_count": 106,
   "id": "f7b2d57e",
   "metadata": {},
   "outputs": [],
   "source": [
    "#Exportar a db\n",
    "#registro_diario_lluvia.to_sql('kobo_data.registro_diario_lluvia', con=db)"
   ]
  },
  {
   "cell_type": "code",
   "execution_count": 9,
   "id": "63747045",
   "metadata": {},
   "outputs": [
    {
     "name": "stdout",
     "output_type": "stream",
     "text": [
      "           codigo nombre_vereda asociacion  anio  mes  precipitacion  dt_mes  \\\n",
      "0  06M004V001P001           NaN        NaN  2021    8              5       8   \n",
      "1   06M01V001P001    San isidro      amusi  2021   10              2      10   \n",
      "2   06M01V001P001    San isidro      amusi  2021   11              2      11   \n",
      "3              E1           NaN        NaN  2021    9             50       9   \n",
      "4         Prueba2           NaN        NaN  2021    8             15       8   \n",
      "\n",
      "   nm_mediana_precipitacion_historico  nm_p10_historico  nm_p90_historico  \\\n",
      "0                              24.880             9.868            31.720   \n",
      "1                              24.955            16.545            36.086   \n",
      "2                              22.545            13.360            32.960   \n",
      "3                              23.180            10.276            36.387   \n",
      "4                              24.880             9.868            31.720   \n",
      "\n",
      "   nm_promedio_p10_historico  nm_promedio_p90_historico  nm_fe_p  nm_fe_n  \\\n",
      "0                   8.790000                  37.105000        3       -3   \n",
      "1                  15.060000                  45.140000        3       -3   \n",
      "2                  11.723333                  34.466667        3       -3   \n",
      "3                   8.463333                  41.773333        3       -3   \n",
      "4                   8.790000                  37.105000        3       -3   \n",
      "\n",
      "      iap_p     iap_n  \n",
      "0 -4.878528 -3.706650  \n",
      "1 -3.411692 -6.959576  \n",
      "2 -5.169999 -5.695518  \n",
      "3  4.327357  5.467271  \n",
      "4 -2.424540 -1.842138  \n"
     ]
    }
   ],
   "source": [
    "#reagrupar por mes para calcular indicador\n",
    "df_registro_mes_lluvia = registro_diario_lluvia.groupby(['codigo','nombre_vereda','asociacion','anio','mes'],dropna=False)['precipitacion'].sum().reset_index()\n",
    "\n",
    "#agregar valores historicos\n",
    "df_mes_parametros = pd.merge(df_registro_mes_lluvia,iap_parametros,left_on=\"mes\",right_on='dt_mes', how='left')\n",
    "\n",
    "#Calcular indicador de anomalia para valores mayores y menores al historico de precipitacion\n",
    "df_mes_parametros['iap_p'] = df_mes_parametros['nm_fe_p']*(df_mes_parametros['precipitacion']-df_mes_parametros['nm_mediana_precipitacion_historico'])/(df_mes_parametros['nm_promedio_p90_historico']-df_mes_parametros['nm_mediana_precipitacion_historico'])\n",
    "df_mes_parametros['iap_n'] = df_mes_parametros['nm_fe_n']*(df_mes_parametros['precipitacion']-df_mes_parametros['nm_mediana_precipitacion_historico'])/(df_mes_parametros['nm_promedio_p10_historico']-df_mes_parametros['nm_mediana_precipitacion_historico'])\n",
    "\n",
    "print(df_mes_parametros)\n"
   ]
  },
  {
   "cell_type": "code",
   "execution_count": 10,
   "id": "228e80fa",
   "metadata": {},
   "outputs": [
    {
     "name": "stdout",
     "output_type": "stream",
     "text": [
      "           codigo nombre_vereda asociacion  anio  mes  precipitacion  dt_mes  \\\n",
      "0  06M004V001P001           NaN        NaN  2021    8              5       8   \n",
      "1   06M01V001P001    San isidro      amusi  2021   10              2      10   \n",
      "2   06M01V001P001    San isidro      amusi  2021   11              2      11   \n",
      "3              E1           NaN        NaN  2021    9             50       9   \n",
      "4         Prueba2           NaN        NaN  2021    8             15       8   \n",
      "\n",
      "   nm_mediana_precipitacion_historico  nm_p10_historico  nm_p90_historico  \\\n",
      "0                              24.880             9.868            31.720   \n",
      "1                              24.955            16.545            36.086   \n",
      "2                              22.545            13.360            32.960   \n",
      "3                              23.180            10.276            36.387   \n",
      "4                              24.880             9.868            31.720   \n",
      "\n",
      "   nm_promedio_p10_historico  nm_promedio_p90_historico  nm_fe_p  nm_fe_n  \\\n",
      "0                   8.790000                  37.105000        3       -3   \n",
      "1                  15.060000                  45.140000        3       -3   \n",
      "2                  11.723333                  34.466667        3       -3   \n",
      "3                   8.463333                  41.773333        3       -3   \n",
      "4                   8.790000                  37.105000        3       -3   \n",
      "\n",
      "      iap_p     iap_n       iap              iap_label  \n",
      "0 -4.878528 -3.706650 -3.706650    Extremadamente seco  \n",
      "1 -3.411692 -6.959576 -6.959576    Extremadamente seco  \n",
      "2 -5.169999 -5.695518 -5.695518    Extremadamente seco  \n",
      "3  4.327357  5.467271  4.327357  Extremadamente húmedo  \n",
      "4 -2.424540 -1.842138 -1.842138     Moderadamente seco  \n"
     ]
    }
   ],
   "source": [
    "#Seleccionar el calculo correspondiente segun la logica de relacion con precipitacion historica\n",
    "df_mes_parametros['iap'] = df_mes_parametros.iap_p\n",
    "mask = df_mes_parametros.precipitacion < df_mes_parametros.nm_mediana_precipitacion_historico\n",
    "\n",
    "df_mes_parametros.loc[mask,'iap'] = df_mes_parametros.loc[mask,'iap_n']\n",
    "\n",
    "#definir puntos de corte segun van Rooy (1965)\n",
    "puntos_corte=[-np.inf,-3,-2,-1,-0.5,0.49999999,0.99999999,1.99999999,2.99999999,np.inf] #verificar si dan los limites cerrados y abiertos\n",
    "rangos=[\"Extremadamente seco\",\"Muy seco\",\"Moderadamente seco\",\"Un poco seco\",\"Aproximadamente normal\",\"Un poco húmedo\",\"Moderadamente húmedo\",\"Muy húmedo\",\"Extremadamente húmedo\"]\n",
    "df_mes_parametros['iap_label'] = pd.cut(df_mes_parametros['iap'], puntos_corte , labels=rangos)\n",
    "\n",
    "#print(df_mes_parametros)"
   ]
  },
  {
   "cell_type": "code",
   "execution_count": null,
   "id": "0adfd36a",
   "metadata": {},
   "outputs": [],
   "source": []
  },
  {
   "cell_type": "code",
   "execution_count": 11,
   "id": "e877b282",
   "metadata": {},
   "outputs": [],
   "source": [
    "#Seleccionar columnas para tabla a exportar\n",
    "indice_anomalia_lluvias = df_mes_parametros[['asociacion','anio','mes','iap','iap_label']] #tabla a exportar\n",
    "\n",
    "#print(indice_anomalia_lluvias)"
   ]
  },
  {
   "cell_type": "code",
   "execution_count": 127,
   "id": "6e17da57",
   "metadata": {},
   "outputs": [
    {
     "ename": "OperationalError",
     "evalue": "(psycopg2.OperationalError) server closed the connection unexpectedly\n\tThis probably means the server terminated abnormally\n\tbefore or while processing the request.\n\n[SQL: select relname from pg_class c join pg_namespace n on n.oid=c.relnamespace where pg_catalog.pg_table_is_visible(c.oid) and relname=%(name)s]\n[parameters: {'name': 'kobo_data.indice_anomalia_lluvias'}]\n(Background on this error at: https://sqlalche.me/e/14/e3q8)",
     "output_type": "error",
     "traceback": [
      "\u001b[0;31m---------------------------------------------------------------------------\u001b[0m",
      "\u001b[0;31mOperationalError\u001b[0m                          Traceback (most recent call last)",
      "\u001b[0;32m/mnt/d/Hikaru/proyecto/vEnv/lib/python3.8/site-packages/sqlalchemy/engine/base.py\u001b[0m in \u001b[0;36m_execute_context\u001b[0;34m(self, dialect, constructor, statement, parameters, execution_options, *args, **kw)\u001b[0m\n\u001b[1;32m   1770\u001b[0m                 \u001b[0;32mif\u001b[0m \u001b[0;32mnot\u001b[0m \u001b[0mevt_handled\u001b[0m\u001b[0;34m:\u001b[0m\u001b[0;34m\u001b[0m\u001b[0;34m\u001b[0m\u001b[0m\n\u001b[0;32m-> 1771\u001b[0;31m                     self.dialect.do_execute(\n\u001b[0m\u001b[1;32m   1772\u001b[0m                         \u001b[0mcursor\u001b[0m\u001b[0;34m,\u001b[0m \u001b[0mstatement\u001b[0m\u001b[0;34m,\u001b[0m \u001b[0mparameters\u001b[0m\u001b[0;34m,\u001b[0m \u001b[0mcontext\u001b[0m\u001b[0;34m\u001b[0m\u001b[0;34m\u001b[0m\u001b[0m\n",
      "\u001b[0;32m/mnt/d/Hikaru/proyecto/vEnv/lib/python3.8/site-packages/sqlalchemy/engine/default.py\u001b[0m in \u001b[0;36mdo_execute\u001b[0;34m(self, cursor, statement, parameters, context)\u001b[0m\n\u001b[1;32m    716\u001b[0m     \u001b[0;32mdef\u001b[0m \u001b[0mdo_execute\u001b[0m\u001b[0;34m(\u001b[0m\u001b[0mself\u001b[0m\u001b[0;34m,\u001b[0m \u001b[0mcursor\u001b[0m\u001b[0;34m,\u001b[0m \u001b[0mstatement\u001b[0m\u001b[0;34m,\u001b[0m \u001b[0mparameters\u001b[0m\u001b[0;34m,\u001b[0m \u001b[0mcontext\u001b[0m\u001b[0;34m=\u001b[0m\u001b[0;32mNone\u001b[0m\u001b[0;34m)\u001b[0m\u001b[0;34m:\u001b[0m\u001b[0;34m\u001b[0m\u001b[0;34m\u001b[0m\u001b[0m\n\u001b[0;32m--> 717\u001b[0;31m         \u001b[0mcursor\u001b[0m\u001b[0;34m.\u001b[0m\u001b[0mexecute\u001b[0m\u001b[0;34m(\u001b[0m\u001b[0mstatement\u001b[0m\u001b[0;34m,\u001b[0m \u001b[0mparameters\u001b[0m\u001b[0;34m)\u001b[0m\u001b[0;34m\u001b[0m\u001b[0;34m\u001b[0m\u001b[0m\n\u001b[0m\u001b[1;32m    718\u001b[0m \u001b[0;34m\u001b[0m\u001b[0m\n",
      "\u001b[0;31mOperationalError\u001b[0m: server closed the connection unexpectedly\n\tThis probably means the server terminated abnormally\n\tbefore or while processing the request.\n",
      "\nThe above exception was the direct cause of the following exception:\n",
      "\u001b[0;31mOperationalError\u001b[0m                          Traceback (most recent call last)",
      "\u001b[0;32m/tmp/ipykernel_681/3367306550.py\u001b[0m in \u001b[0;36m<module>\u001b[0;34m\u001b[0m\n\u001b[1;32m      1\u001b[0m \u001b[0;31m#Exportar a db\u001b[0m\u001b[0;34m\u001b[0m\u001b[0;34m\u001b[0m\u001b[0;34m\u001b[0m\u001b[0m\n\u001b[0;32m----> 2\u001b[0;31m \u001b[0mindice_anomalia_lluvias\u001b[0m\u001b[0;34m.\u001b[0m\u001b[0mto_sql\u001b[0m\u001b[0;34m(\u001b[0m\u001b[0;34m'kobo_data.indice_anomalia_lluvias'\u001b[0m\u001b[0;34m,\u001b[0m \u001b[0mcon\u001b[0m\u001b[0;34m=\u001b[0m\u001b[0mdb\u001b[0m\u001b[0;34m)\u001b[0m\u001b[0;34m\u001b[0m\u001b[0;34m\u001b[0m\u001b[0m\n\u001b[0m",
      "\u001b[0;32m/mnt/d/Hikaru/proyecto/vEnv/lib/python3.8/site-packages/pandas/core/generic.py\u001b[0m in \u001b[0;36mto_sql\u001b[0;34m(self, name, con, schema, if_exists, index, index_label, chunksize, dtype, method)\u001b[0m\n\u001b[1;32m   2867\u001b[0m         \u001b[0;32mfrom\u001b[0m \u001b[0mpandas\u001b[0m\u001b[0;34m.\u001b[0m\u001b[0mio\u001b[0m \u001b[0;32mimport\u001b[0m \u001b[0msql\u001b[0m\u001b[0;34m\u001b[0m\u001b[0;34m\u001b[0m\u001b[0m\n\u001b[1;32m   2868\u001b[0m \u001b[0;34m\u001b[0m\u001b[0m\n\u001b[0;32m-> 2869\u001b[0;31m         sql.to_sql(\n\u001b[0m\u001b[1;32m   2870\u001b[0m             \u001b[0mself\u001b[0m\u001b[0;34m,\u001b[0m\u001b[0;34m\u001b[0m\u001b[0;34m\u001b[0m\u001b[0m\n\u001b[1;32m   2871\u001b[0m             \u001b[0mname\u001b[0m\u001b[0;34m,\u001b[0m\u001b[0;34m\u001b[0m\u001b[0;34m\u001b[0m\u001b[0m\n",
      "\u001b[0;32m/mnt/d/Hikaru/proyecto/vEnv/lib/python3.8/site-packages/pandas/io/sql.py\u001b[0m in \u001b[0;36mto_sql\u001b[0;34m(frame, name, con, schema, if_exists, index, index_label, chunksize, dtype, method, engine, **engine_kwargs)\u001b[0m\n\u001b[1;32m    715\u001b[0m         )\n\u001b[1;32m    716\u001b[0m \u001b[0;34m\u001b[0m\u001b[0m\n\u001b[0;32m--> 717\u001b[0;31m     pandas_sql.to_sql(\n\u001b[0m\u001b[1;32m    718\u001b[0m         \u001b[0mframe\u001b[0m\u001b[0;34m,\u001b[0m\u001b[0;34m\u001b[0m\u001b[0;34m\u001b[0m\u001b[0m\n\u001b[1;32m    719\u001b[0m         \u001b[0mname\u001b[0m\u001b[0;34m,\u001b[0m\u001b[0;34m\u001b[0m\u001b[0;34m\u001b[0m\u001b[0m\n",
      "\u001b[0;32m/mnt/d/Hikaru/proyecto/vEnv/lib/python3.8/site-packages/pandas/io/sql.py\u001b[0m in \u001b[0;36mto_sql\u001b[0;34m(self, frame, name, if_exists, index, index_label, schema, chunksize, dtype, method, engine, **engine_kwargs)\u001b[0m\n\u001b[1;32m   1749\u001b[0m         \u001b[0msql_engine\u001b[0m \u001b[0;34m=\u001b[0m \u001b[0mget_engine\u001b[0m\u001b[0;34m(\u001b[0m\u001b[0mengine\u001b[0m\u001b[0;34m)\u001b[0m\u001b[0;34m\u001b[0m\u001b[0;34m\u001b[0m\u001b[0m\n\u001b[1;32m   1750\u001b[0m \u001b[0;34m\u001b[0m\u001b[0m\n\u001b[0;32m-> 1751\u001b[0;31m         table = self.prep_table(\n\u001b[0m\u001b[1;32m   1752\u001b[0m             \u001b[0mframe\u001b[0m\u001b[0;34m=\u001b[0m\u001b[0mframe\u001b[0m\u001b[0;34m,\u001b[0m\u001b[0;34m\u001b[0m\u001b[0;34m\u001b[0m\u001b[0m\n\u001b[1;32m   1753\u001b[0m             \u001b[0mname\u001b[0m\u001b[0;34m=\u001b[0m\u001b[0mname\u001b[0m\u001b[0;34m,\u001b[0m\u001b[0;34m\u001b[0m\u001b[0;34m\u001b[0m\u001b[0m\n",
      "\u001b[0;32m/mnt/d/Hikaru/proyecto/vEnv/lib/python3.8/site-packages/pandas/io/sql.py\u001b[0m in \u001b[0;36mprep_table\u001b[0;34m(self, frame, name, if_exists, index, index_label, schema, dtype)\u001b[0m\n\u001b[1;32m   1648\u001b[0m             \u001b[0mdtype\u001b[0m\u001b[0;34m=\u001b[0m\u001b[0mdtype\u001b[0m\u001b[0;34m,\u001b[0m\u001b[0;34m\u001b[0m\u001b[0;34m\u001b[0m\u001b[0m\n\u001b[1;32m   1649\u001b[0m         )\n\u001b[0;32m-> 1650\u001b[0;31m         \u001b[0mtable\u001b[0m\u001b[0;34m.\u001b[0m\u001b[0mcreate\u001b[0m\u001b[0;34m(\u001b[0m\u001b[0;34m)\u001b[0m\u001b[0;34m\u001b[0m\u001b[0;34m\u001b[0m\u001b[0m\n\u001b[0m\u001b[1;32m   1651\u001b[0m         \u001b[0;32mreturn\u001b[0m \u001b[0mtable\u001b[0m\u001b[0;34m\u001b[0m\u001b[0;34m\u001b[0m\u001b[0m\n\u001b[1;32m   1652\u001b[0m \u001b[0;34m\u001b[0m\u001b[0m\n",
      "\u001b[0;32m/mnt/d/Hikaru/proyecto/vEnv/lib/python3.8/site-packages/pandas/io/sql.py\u001b[0m in \u001b[0;36mcreate\u001b[0;34m(self)\u001b[0m\n\u001b[1;32m    854\u001b[0m \u001b[0;34m\u001b[0m\u001b[0m\n\u001b[1;32m    855\u001b[0m     \u001b[0;32mdef\u001b[0m \u001b[0mcreate\u001b[0m\u001b[0;34m(\u001b[0m\u001b[0mself\u001b[0m\u001b[0;34m)\u001b[0m\u001b[0;34m:\u001b[0m\u001b[0;34m\u001b[0m\u001b[0;34m\u001b[0m\u001b[0m\n\u001b[0;32m--> 856\u001b[0;31m         \u001b[0;32mif\u001b[0m \u001b[0mself\u001b[0m\u001b[0;34m.\u001b[0m\u001b[0mexists\u001b[0m\u001b[0;34m(\u001b[0m\u001b[0;34m)\u001b[0m\u001b[0;34m:\u001b[0m\u001b[0;34m\u001b[0m\u001b[0;34m\u001b[0m\u001b[0m\n\u001b[0m\u001b[1;32m    857\u001b[0m             \u001b[0;32mif\u001b[0m \u001b[0mself\u001b[0m\u001b[0;34m.\u001b[0m\u001b[0mif_exists\u001b[0m \u001b[0;34m==\u001b[0m \u001b[0;34m\"fail\"\u001b[0m\u001b[0;34m:\u001b[0m\u001b[0;34m\u001b[0m\u001b[0;34m\u001b[0m\u001b[0m\n\u001b[1;32m    858\u001b[0m                 \u001b[0;32mraise\u001b[0m \u001b[0mValueError\u001b[0m\u001b[0;34m(\u001b[0m\u001b[0;34mf\"Table '{self.name}' already exists.\"\u001b[0m\u001b[0;34m)\u001b[0m\u001b[0;34m\u001b[0m\u001b[0;34m\u001b[0m\u001b[0m\n",
      "\u001b[0;32m/mnt/d/Hikaru/proyecto/vEnv/lib/python3.8/site-packages/pandas/io/sql.py\u001b[0m in \u001b[0;36mexists\u001b[0;34m(self)\u001b[0m\n\u001b[1;32m    838\u001b[0m \u001b[0;34m\u001b[0m\u001b[0m\n\u001b[1;32m    839\u001b[0m     \u001b[0;32mdef\u001b[0m \u001b[0mexists\u001b[0m\u001b[0;34m(\u001b[0m\u001b[0mself\u001b[0m\u001b[0;34m)\u001b[0m\u001b[0;34m:\u001b[0m\u001b[0;34m\u001b[0m\u001b[0;34m\u001b[0m\u001b[0m\n\u001b[0;32m--> 840\u001b[0;31m         \u001b[0;32mreturn\u001b[0m \u001b[0mself\u001b[0m\u001b[0;34m.\u001b[0m\u001b[0mpd_sql\u001b[0m\u001b[0;34m.\u001b[0m\u001b[0mhas_table\u001b[0m\u001b[0;34m(\u001b[0m\u001b[0mself\u001b[0m\u001b[0;34m.\u001b[0m\u001b[0mname\u001b[0m\u001b[0;34m,\u001b[0m \u001b[0mself\u001b[0m\u001b[0;34m.\u001b[0m\u001b[0mschema\u001b[0m\u001b[0;34m)\u001b[0m\u001b[0;34m\u001b[0m\u001b[0;34m\u001b[0m\u001b[0m\n\u001b[0m\u001b[1;32m    841\u001b[0m \u001b[0;34m\u001b[0m\u001b[0m\n\u001b[1;32m    842\u001b[0m     \u001b[0;32mdef\u001b[0m \u001b[0msql_schema\u001b[0m\u001b[0;34m(\u001b[0m\u001b[0mself\u001b[0m\u001b[0;34m)\u001b[0m\u001b[0;34m:\u001b[0m\u001b[0;34m\u001b[0m\u001b[0;34m\u001b[0m\u001b[0m\n",
      "\u001b[0;32m/mnt/d/Hikaru/proyecto/vEnv/lib/python3.8/site-packages/pandas/io/sql.py\u001b[0m in \u001b[0;36mhas_table\u001b[0;34m(self, name, schema)\u001b[0m\n\u001b[1;32m   1782\u001b[0m \u001b[0;34m\u001b[0m\u001b[0m\n\u001b[1;32m   1783\u001b[0m             \u001b[0minsp\u001b[0m \u001b[0;34m=\u001b[0m \u001b[0msa\u001b[0m\u001b[0;34m.\u001b[0m\u001b[0minspect\u001b[0m\u001b[0;34m(\u001b[0m\u001b[0mself\u001b[0m\u001b[0;34m.\u001b[0m\u001b[0mconnectable\u001b[0m\u001b[0;34m)\u001b[0m\u001b[0;34m\u001b[0m\u001b[0;34m\u001b[0m\u001b[0m\n\u001b[0;32m-> 1784\u001b[0;31m             \u001b[0;32mreturn\u001b[0m \u001b[0minsp\u001b[0m\u001b[0;34m.\u001b[0m\u001b[0mhas_table\u001b[0m\u001b[0;34m(\u001b[0m\u001b[0mname\u001b[0m\u001b[0;34m,\u001b[0m \u001b[0mschema\u001b[0m \u001b[0;32mor\u001b[0m \u001b[0mself\u001b[0m\u001b[0;34m.\u001b[0m\u001b[0mmeta\u001b[0m\u001b[0;34m.\u001b[0m\u001b[0mschema\u001b[0m\u001b[0;34m)\u001b[0m\u001b[0;34m\u001b[0m\u001b[0;34m\u001b[0m\u001b[0m\n\u001b[0m\u001b[1;32m   1785\u001b[0m         \u001b[0;32melse\u001b[0m\u001b[0;34m:\u001b[0m\u001b[0;34m\u001b[0m\u001b[0;34m\u001b[0m\u001b[0m\n\u001b[1;32m   1786\u001b[0m             return self.connectable.run_callable(\n",
      "\u001b[0;32m/mnt/d/Hikaru/proyecto/vEnv/lib/python3.8/site-packages/sqlalchemy/engine/reflection.py\u001b[0m in \u001b[0;36mhas_table\u001b[0;34m(self, table_name, schema)\u001b[0m\n\u001b[1;32m    281\u001b[0m         \u001b[0;31m# TODO: info_cache?\u001b[0m\u001b[0;34m\u001b[0m\u001b[0;34m\u001b[0m\u001b[0;34m\u001b[0m\u001b[0m\n\u001b[1;32m    282\u001b[0m         \u001b[0;32mwith\u001b[0m \u001b[0mself\u001b[0m\u001b[0;34m.\u001b[0m\u001b[0m_operation_context\u001b[0m\u001b[0;34m(\u001b[0m\u001b[0;34m)\u001b[0m \u001b[0;32mas\u001b[0m \u001b[0mconn\u001b[0m\u001b[0;34m:\u001b[0m\u001b[0;34m\u001b[0m\u001b[0;34m\u001b[0m\u001b[0m\n\u001b[0;32m--> 283\u001b[0;31m             \u001b[0;32mreturn\u001b[0m \u001b[0mself\u001b[0m\u001b[0;34m.\u001b[0m\u001b[0mdialect\u001b[0m\u001b[0;34m.\u001b[0m\u001b[0mhas_table\u001b[0m\u001b[0;34m(\u001b[0m\u001b[0mconn\u001b[0m\u001b[0;34m,\u001b[0m \u001b[0mtable_name\u001b[0m\u001b[0;34m,\u001b[0m \u001b[0mschema\u001b[0m\u001b[0;34m)\u001b[0m\u001b[0;34m\u001b[0m\u001b[0;34m\u001b[0m\u001b[0m\n\u001b[0m\u001b[1;32m    284\u001b[0m \u001b[0;34m\u001b[0m\u001b[0m\n\u001b[1;32m    285\u001b[0m     \u001b[0;32mdef\u001b[0m \u001b[0mhas_sequence\u001b[0m\u001b[0;34m(\u001b[0m\u001b[0mself\u001b[0m\u001b[0;34m,\u001b[0m \u001b[0msequence_name\u001b[0m\u001b[0;34m,\u001b[0m \u001b[0mschema\u001b[0m\u001b[0;34m=\u001b[0m\u001b[0;32mNone\u001b[0m\u001b[0;34m)\u001b[0m\u001b[0;34m:\u001b[0m\u001b[0;34m\u001b[0m\u001b[0;34m\u001b[0m\u001b[0m\n",
      "\u001b[0;32m/mnt/d/Hikaru/proyecto/vEnv/lib/python3.8/site-packages/sqlalchemy/dialects/postgresql/base.py\u001b[0m in \u001b[0;36mhas_table\u001b[0;34m(self, connection, table_name, schema)\u001b[0m\n\u001b[1;32m   3332\u001b[0m         \u001b[0;31m# seems like case gets folded in pg_class...\u001b[0m\u001b[0;34m\u001b[0m\u001b[0;34m\u001b[0m\u001b[0;34m\u001b[0m\u001b[0m\n\u001b[1;32m   3333\u001b[0m         \u001b[0;32mif\u001b[0m \u001b[0mschema\u001b[0m \u001b[0;32mis\u001b[0m \u001b[0;32mNone\u001b[0m\u001b[0;34m:\u001b[0m\u001b[0;34m\u001b[0m\u001b[0;34m\u001b[0m\u001b[0m\n\u001b[0;32m-> 3334\u001b[0;31m             cursor = connection.execute(\n\u001b[0m\u001b[1;32m   3335\u001b[0m                 sql.text(\n\u001b[1;32m   3336\u001b[0m                     \u001b[0;34m\"select relname from pg_class c join pg_namespace n on \"\u001b[0m\u001b[0;34m\u001b[0m\u001b[0;34m\u001b[0m\u001b[0m\n",
      "\u001b[0;32m/mnt/d/Hikaru/proyecto/vEnv/lib/python3.8/site-packages/sqlalchemy/engine/base.py\u001b[0m in \u001b[0;36mexecute\u001b[0;34m(self, statement, *multiparams, **params)\u001b[0m\n\u001b[1;32m   1261\u001b[0m             )\n\u001b[1;32m   1262\u001b[0m         \u001b[0;32melse\u001b[0m\u001b[0;34m:\u001b[0m\u001b[0;34m\u001b[0m\u001b[0;34m\u001b[0m\u001b[0m\n\u001b[0;32m-> 1263\u001b[0;31m             \u001b[0;32mreturn\u001b[0m \u001b[0mmeth\u001b[0m\u001b[0;34m(\u001b[0m\u001b[0mself\u001b[0m\u001b[0;34m,\u001b[0m \u001b[0mmultiparams\u001b[0m\u001b[0;34m,\u001b[0m \u001b[0mparams\u001b[0m\u001b[0;34m,\u001b[0m \u001b[0m_EMPTY_EXECUTION_OPTS\u001b[0m\u001b[0;34m)\u001b[0m\u001b[0;34m\u001b[0m\u001b[0;34m\u001b[0m\u001b[0m\n\u001b[0m\u001b[1;32m   1264\u001b[0m \u001b[0;34m\u001b[0m\u001b[0m\n\u001b[1;32m   1265\u001b[0m     \u001b[0;32mdef\u001b[0m \u001b[0m_execute_function\u001b[0m\u001b[0;34m(\u001b[0m\u001b[0mself\u001b[0m\u001b[0;34m,\u001b[0m \u001b[0mfunc\u001b[0m\u001b[0;34m,\u001b[0m \u001b[0mmultiparams\u001b[0m\u001b[0;34m,\u001b[0m \u001b[0mparams\u001b[0m\u001b[0;34m,\u001b[0m \u001b[0mexecution_options\u001b[0m\u001b[0;34m)\u001b[0m\u001b[0;34m:\u001b[0m\u001b[0;34m\u001b[0m\u001b[0;34m\u001b[0m\u001b[0m\n",
      "\u001b[0;32m/mnt/d/Hikaru/proyecto/vEnv/lib/python3.8/site-packages/sqlalchemy/sql/elements.py\u001b[0m in \u001b[0;36m_execute_on_connection\u001b[0;34m(self, connection, multiparams, params, execution_options, _force)\u001b[0m\n\u001b[1;32m    321\u001b[0m     ):\n\u001b[1;32m    322\u001b[0m         \u001b[0;32mif\u001b[0m \u001b[0m_force\u001b[0m \u001b[0;32mor\u001b[0m \u001b[0mself\u001b[0m\u001b[0;34m.\u001b[0m\u001b[0msupports_execution\u001b[0m\u001b[0;34m:\u001b[0m\u001b[0;34m\u001b[0m\u001b[0;34m\u001b[0m\u001b[0m\n\u001b[0;32m--> 323\u001b[0;31m             return connection._execute_clauseelement(\n\u001b[0m\u001b[1;32m    324\u001b[0m                 \u001b[0mself\u001b[0m\u001b[0;34m,\u001b[0m \u001b[0mmultiparams\u001b[0m\u001b[0;34m,\u001b[0m \u001b[0mparams\u001b[0m\u001b[0;34m,\u001b[0m \u001b[0mexecution_options\u001b[0m\u001b[0;34m\u001b[0m\u001b[0;34m\u001b[0m\u001b[0m\n\u001b[1;32m    325\u001b[0m             )\n",
      "\u001b[0;32m/mnt/d/Hikaru/proyecto/vEnv/lib/python3.8/site-packages/sqlalchemy/engine/base.py\u001b[0m in \u001b[0;36m_execute_clauseelement\u001b[0;34m(self, elem, multiparams, params, execution_options)\u001b[0m\n\u001b[1;32m   1450\u001b[0m             \u001b[0mlinting\u001b[0m\u001b[0;34m=\u001b[0m\u001b[0mself\u001b[0m\u001b[0;34m.\u001b[0m\u001b[0mdialect\u001b[0m\u001b[0;34m.\u001b[0m\u001b[0mcompiler_linting\u001b[0m \u001b[0;34m|\u001b[0m \u001b[0mcompiler\u001b[0m\u001b[0;34m.\u001b[0m\u001b[0mWARN_LINTING\u001b[0m\u001b[0;34m,\u001b[0m\u001b[0;34m\u001b[0m\u001b[0;34m\u001b[0m\u001b[0m\n\u001b[1;32m   1451\u001b[0m         )\n\u001b[0;32m-> 1452\u001b[0;31m         ret = self._execute_context(\n\u001b[0m\u001b[1;32m   1453\u001b[0m             \u001b[0mdialect\u001b[0m\u001b[0;34m,\u001b[0m\u001b[0;34m\u001b[0m\u001b[0;34m\u001b[0m\u001b[0m\n\u001b[1;32m   1454\u001b[0m             \u001b[0mdialect\u001b[0m\u001b[0;34m.\u001b[0m\u001b[0mexecution_ctx_cls\u001b[0m\u001b[0;34m.\u001b[0m\u001b[0m_init_compiled\u001b[0m\u001b[0;34m,\u001b[0m\u001b[0;34m\u001b[0m\u001b[0;34m\u001b[0m\u001b[0m\n",
      "\u001b[0;32m/mnt/d/Hikaru/proyecto/vEnv/lib/python3.8/site-packages/sqlalchemy/engine/base.py\u001b[0m in \u001b[0;36m_execute_context\u001b[0;34m(self, dialect, constructor, statement, parameters, execution_options, *args, **kw)\u001b[0m\n\u001b[1;32m   1812\u001b[0m \u001b[0;34m\u001b[0m\u001b[0m\n\u001b[1;32m   1813\u001b[0m         \u001b[0;32mexcept\u001b[0m \u001b[0mBaseException\u001b[0m \u001b[0;32mas\u001b[0m \u001b[0me\u001b[0m\u001b[0;34m:\u001b[0m\u001b[0;34m\u001b[0m\u001b[0;34m\u001b[0m\u001b[0m\n\u001b[0;32m-> 1814\u001b[0;31m             self._handle_dbapi_exception(\n\u001b[0m\u001b[1;32m   1815\u001b[0m                 \u001b[0me\u001b[0m\u001b[0;34m,\u001b[0m \u001b[0mstatement\u001b[0m\u001b[0;34m,\u001b[0m \u001b[0mparameters\u001b[0m\u001b[0;34m,\u001b[0m \u001b[0mcursor\u001b[0m\u001b[0;34m,\u001b[0m \u001b[0mcontext\u001b[0m\u001b[0;34m\u001b[0m\u001b[0;34m\u001b[0m\u001b[0m\n\u001b[1;32m   1816\u001b[0m             )\n",
      "\u001b[0;32m/mnt/d/Hikaru/proyecto/vEnv/lib/python3.8/site-packages/sqlalchemy/engine/base.py\u001b[0m in \u001b[0;36m_handle_dbapi_exception\u001b[0;34m(self, e, statement, parameters, cursor, context)\u001b[0m\n\u001b[1;32m   1993\u001b[0m                 \u001b[0mutil\u001b[0m\u001b[0;34m.\u001b[0m\u001b[0mraise_\u001b[0m\u001b[0;34m(\u001b[0m\u001b[0mnewraise\u001b[0m\u001b[0;34m,\u001b[0m \u001b[0mwith_traceback\u001b[0m\u001b[0;34m=\u001b[0m\u001b[0mexc_info\u001b[0m\u001b[0;34m[\u001b[0m\u001b[0;36m2\u001b[0m\u001b[0;34m]\u001b[0m\u001b[0;34m,\u001b[0m \u001b[0mfrom_\u001b[0m\u001b[0;34m=\u001b[0m\u001b[0me\u001b[0m\u001b[0;34m)\u001b[0m\u001b[0;34m\u001b[0m\u001b[0;34m\u001b[0m\u001b[0m\n\u001b[1;32m   1994\u001b[0m             \u001b[0;32melif\u001b[0m \u001b[0mshould_wrap\u001b[0m\u001b[0;34m:\u001b[0m\u001b[0;34m\u001b[0m\u001b[0;34m\u001b[0m\u001b[0m\n\u001b[0;32m-> 1995\u001b[0;31m                 util.raise_(\n\u001b[0m\u001b[1;32m   1996\u001b[0m                     \u001b[0msqlalchemy_exception\u001b[0m\u001b[0;34m,\u001b[0m \u001b[0mwith_traceback\u001b[0m\u001b[0;34m=\u001b[0m\u001b[0mexc_info\u001b[0m\u001b[0;34m[\u001b[0m\u001b[0;36m2\u001b[0m\u001b[0;34m]\u001b[0m\u001b[0;34m,\u001b[0m \u001b[0mfrom_\u001b[0m\u001b[0;34m=\u001b[0m\u001b[0me\u001b[0m\u001b[0;34m\u001b[0m\u001b[0;34m\u001b[0m\u001b[0m\n\u001b[1;32m   1997\u001b[0m                 )\n",
      "\u001b[0;32m/mnt/d/Hikaru/proyecto/vEnv/lib/python3.8/site-packages/sqlalchemy/util/compat.py\u001b[0m in \u001b[0;36mraise_\u001b[0;34m(***failed resolving arguments***)\u001b[0m\n\u001b[1;32m    205\u001b[0m \u001b[0;34m\u001b[0m\u001b[0m\n\u001b[1;32m    206\u001b[0m         \u001b[0;32mtry\u001b[0m\u001b[0;34m:\u001b[0m\u001b[0;34m\u001b[0m\u001b[0;34m\u001b[0m\u001b[0m\n\u001b[0;32m--> 207\u001b[0;31m             \u001b[0;32mraise\u001b[0m \u001b[0mexception\u001b[0m\u001b[0;34m\u001b[0m\u001b[0;34m\u001b[0m\u001b[0m\n\u001b[0m\u001b[1;32m    208\u001b[0m         \u001b[0;32mfinally\u001b[0m\u001b[0;34m:\u001b[0m\u001b[0;34m\u001b[0m\u001b[0;34m\u001b[0m\u001b[0m\n\u001b[1;32m    209\u001b[0m             \u001b[0;31m# credit to\u001b[0m\u001b[0;34m\u001b[0m\u001b[0;34m\u001b[0m\u001b[0;34m\u001b[0m\u001b[0m\n",
      "\u001b[0;32m/mnt/d/Hikaru/proyecto/vEnv/lib/python3.8/site-packages/sqlalchemy/engine/base.py\u001b[0m in \u001b[0;36m_execute_context\u001b[0;34m(self, dialect, constructor, statement, parameters, execution_options, *args, **kw)\u001b[0m\n\u001b[1;32m   1769\u001b[0m                             \u001b[0;32mbreak\u001b[0m\u001b[0;34m\u001b[0m\u001b[0;34m\u001b[0m\u001b[0m\n\u001b[1;32m   1770\u001b[0m                 \u001b[0;32mif\u001b[0m \u001b[0;32mnot\u001b[0m \u001b[0mevt_handled\u001b[0m\u001b[0;34m:\u001b[0m\u001b[0;34m\u001b[0m\u001b[0;34m\u001b[0m\u001b[0m\n\u001b[0;32m-> 1771\u001b[0;31m                     self.dialect.do_execute(\n\u001b[0m\u001b[1;32m   1772\u001b[0m                         \u001b[0mcursor\u001b[0m\u001b[0;34m,\u001b[0m \u001b[0mstatement\u001b[0m\u001b[0;34m,\u001b[0m \u001b[0mparameters\u001b[0m\u001b[0;34m,\u001b[0m \u001b[0mcontext\u001b[0m\u001b[0;34m\u001b[0m\u001b[0;34m\u001b[0m\u001b[0m\n\u001b[1;32m   1773\u001b[0m                     )\n",
      "\u001b[0;32m/mnt/d/Hikaru/proyecto/vEnv/lib/python3.8/site-packages/sqlalchemy/engine/default.py\u001b[0m in \u001b[0;36mdo_execute\u001b[0;34m(self, cursor, statement, parameters, context)\u001b[0m\n\u001b[1;32m    715\u001b[0m \u001b[0;34m\u001b[0m\u001b[0m\n\u001b[1;32m    716\u001b[0m     \u001b[0;32mdef\u001b[0m \u001b[0mdo_execute\u001b[0m\u001b[0;34m(\u001b[0m\u001b[0mself\u001b[0m\u001b[0;34m,\u001b[0m \u001b[0mcursor\u001b[0m\u001b[0;34m,\u001b[0m \u001b[0mstatement\u001b[0m\u001b[0;34m,\u001b[0m \u001b[0mparameters\u001b[0m\u001b[0;34m,\u001b[0m \u001b[0mcontext\u001b[0m\u001b[0;34m=\u001b[0m\u001b[0;32mNone\u001b[0m\u001b[0;34m)\u001b[0m\u001b[0;34m:\u001b[0m\u001b[0;34m\u001b[0m\u001b[0;34m\u001b[0m\u001b[0m\n\u001b[0;32m--> 717\u001b[0;31m         \u001b[0mcursor\u001b[0m\u001b[0;34m.\u001b[0m\u001b[0mexecute\u001b[0m\u001b[0;34m(\u001b[0m\u001b[0mstatement\u001b[0m\u001b[0;34m,\u001b[0m \u001b[0mparameters\u001b[0m\u001b[0;34m)\u001b[0m\u001b[0;34m\u001b[0m\u001b[0;34m\u001b[0m\u001b[0m\n\u001b[0m\u001b[1;32m    718\u001b[0m \u001b[0;34m\u001b[0m\u001b[0m\n\u001b[1;32m    719\u001b[0m     \u001b[0;32mdef\u001b[0m \u001b[0mdo_execute_no_params\u001b[0m\u001b[0;34m(\u001b[0m\u001b[0mself\u001b[0m\u001b[0;34m,\u001b[0m \u001b[0mcursor\u001b[0m\u001b[0;34m,\u001b[0m \u001b[0mstatement\u001b[0m\u001b[0;34m,\u001b[0m \u001b[0mcontext\u001b[0m\u001b[0;34m=\u001b[0m\u001b[0;32mNone\u001b[0m\u001b[0;34m)\u001b[0m\u001b[0;34m:\u001b[0m\u001b[0;34m\u001b[0m\u001b[0;34m\u001b[0m\u001b[0m\n",
      "\u001b[0;31mOperationalError\u001b[0m: (psycopg2.OperationalError) server closed the connection unexpectedly\n\tThis probably means the server terminated abnormally\n\tbefore or while processing the request.\n\n[SQL: select relname from pg_class c join pg_namespace n on n.oid=c.relnamespace where pg_catalog.pg_table_is_visible(c.oid) and relname=%(name)s]\n[parameters: {'name': 'kobo_data.indice_anomalia_lluvias'}]\n(Background on this error at: https://sqlalche.me/e/14/e3q8)"
     ]
    }
   ],
   "source": [
    "#Exportar a db\n",
    "indice_anomalia_lluvias.to_sql('kobo_data.indice_anomalia_lluvias', con=db)"
   ]
  }
 ],
 "metadata": {
  "interpreter": {
   "hash": "0c8bc029d2b34f65e3d72837f1b1144b99b4e22b0c8b797a443332e0b67550eb"
  },
  "kernelspec": {
   "display_name": "Python 3.8.11 64-bit ('vEnv': venv)",
   "name": "python3"
  },
  "language_info": {
   "codemirror_mode": {
    "name": "ipython",
    "version": 3
   },
   "file_extension": ".py",
   "mimetype": "text/x-python",
   "name": "python",
   "nbconvert_exporter": "python",
   "pygments_lexer": "ipython3",
   "version": "3.8.11"
  }
 },
 "nbformat": 4,
 "nbformat_minor": 5
}
